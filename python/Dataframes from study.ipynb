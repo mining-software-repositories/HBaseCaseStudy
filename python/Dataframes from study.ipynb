{
 "cells": [
  {
   "cell_type": "code",
   "execution_count": 10,
   "metadata": {},
   "outputs": [],
   "source": [
    "import pandas as pd\n",
    "import re"
   ]
  },
  {
   "cell_type": "code",
   "execution_count": 11,
   "metadata": {},
   "outputs": [],
   "source": [
    "def list_contents_value(list_to_check, value_to_check):\n",
    "    my_checked_list = []\n",
    "    for each in list_to_check:\n",
    "        if value_to_check in each : my_checked_list.append(each)\n",
    "    my_checked_list.sort()\n",
    "    return my_checked_list\n",
    "\n",
    "def create_my_dict(my_df):\n",
    "    my_dict = {}\n",
    "    my_list = []\n",
    "    size = len(my_df.iloc[0])\n",
    "    for cont in range(size):\n",
    "        my_list.append(my_df.iloc[0, cont])\n",
    "    key = show_content_between(my_df.name, 'df_dataset_hbase','_metrics_suite_')    \n",
    "    my_dict[key] = my_list\n",
    "    return my_dict\n",
    "\n",
    "def show_content_between(whole, start, end):\n",
    "    s = whole\n",
    "    result = re.search(start + '(.*)' + end, s)\n",
    "    return(result.group(1))"
   ]
  },
  {
   "cell_type": "code",
   "execution_count": 12,
   "metadata": {},
   "outputs": [],
   "source": [
    "df_dataset_hbase1_3_0_degradation_matrix_ = pd.read_csv('../arcatchreports/hbase1.3.0/hbase1.3.0-degradation-matrix-2020-03-18-19-58-15.csv', sep=';')\n",
    "df_dataset_hbase1_3_0_violation_matrix_ = pd.read_csv('../arcatchreports/hbase1.3.0/hbase1.3.0-violation-matrix-2020-03-18-19-58-15.csv', sep=';')\n",
    "df_dataset_hbase1_3_0_metric_suite_description_ = pd.read_csv('../arcatchreports/hbase1.3.0/hbase1.3.0-metric-suite-description-2020-03-18-19-58-15.csv', sep=';')\n",
    "df_dataset_hbase1_3_0_compartment_description_ = pd.read_csv('../arcatchreports/hbase1.3.0/hbase1.3.0-compartment-description-2020-03-18-19-58-15.csv', sep=';')\n",
    "df_dataset_hbase1_3_0_conformance_of_rules_ = pd.read_csv('../arcatchreports/hbase1.3.0/hbase1.3.0-conformance-of-rules-2020-03-18-19-58-15.csv', sep=';')\n",
    "df_dataset_hbase1_3_0_metrics_suite_ = pd.read_csv('../arcatchreports/hbase1.3.0/hbase1.3.0-metrics-suite-2020-03-18-19-58-15.csv', sep=';')\n",
    "df_dataset_hbase1_3_0_basic_statistics_ = pd.read_csv('../arcatchreports/hbase1.3.0/hbase1.3.0-basic-statistics-2020-03-18-19-58-15.csv', sep=';')\n",
    "df_dataset_hbase1_3_0_rule_violation_ = pd.read_csv('../arcatchreports/hbase1.3.0/hbase1.3.0-rule-violation-2020-03-18-19-58-15.csv', sep=';')\n",
    "df_dataset_hbase1_3_0_unit_compartment_mapping_matrix_ = pd.read_csv('../arcatchreports/hbase1.3.0/hbase1.3.0-unit-compartment-mapping-matrix-2020-03-18-19-58-15.csv', sep=';')\n",
    "df_dataset_hbase1_3_0_degree_of_conformance_ = pd.read_csv('../arcatchreports/hbase1.3.0/hbase1.3.0-degree-of-conformance-2020-03-18-19-58-15.csv', sep=';')\n",
    "df_dataset_hbase1_4_0_metrics_suite_ = pd.read_csv('../arcatchreports/hbase1.4.0/hbase1.4.0-metrics-suite-2020-03-18-19-58-08.csv', sep=';')\n",
    "df_dataset_hbase1_4_0_conformance_of_rules_ = pd.read_csv('../arcatchreports/hbase1.4.0/hbase1.4.0-conformance-of-rules-2020-03-18-19-58-08.csv', sep=';')\n",
    "df_dataset_hbase1_4_0_compartment_description_ = pd.read_csv('../arcatchreports/hbase1.4.0/hbase1.4.0-compartment-description-2020-03-18-19-58-08.csv', sep=';')\n",
    "df_dataset_hbase1_4_0_degree_of_conformance_ = pd.read_csv('../arcatchreports/hbase1.4.0/hbase1.4.0-degree-of-conformance-2020-03-18-19-58-08.csv', sep=';')\n",
    "df_dataset_hbase1_4_0_rule_violation_ = pd.read_csv('../arcatchreports/hbase1.4.0/hbase1.4.0-rule-violation-2020-03-18-19-58-08.csv', sep=';')\n",
    "df_dataset_hbase1_4_0_violation_matrix_ = pd.read_csv('../arcatchreports/hbase1.4.0/hbase1.4.0-violation-matrix-2020-03-18-19-58-08.csv', sep=';')\n",
    "df_dataset_hbase1_4_0_degradation_matrix_ = pd.read_csv('../arcatchreports/hbase1.4.0/hbase1.4.0-degradation-matrix-2020-03-18-19-58-08.csv', sep=';')\n",
    "df_dataset_hbase1_4_0_basic_statistics_ = pd.read_csv('../arcatchreports/hbase1.4.0/hbase1.4.0-basic-statistics-2020-03-18-19-58-08.csv', sep=';')\n",
    "df_dataset_hbase1_4_0_unit_compartment_mapping_matrix_ = pd.read_csv('../arcatchreports/hbase1.4.0/hbase1.4.0-unit-compartment-mapping-matrix-2020-03-18-19-58-08.csv', sep=';')\n",
    "df_dataset_hbase1_4_0_metric_suite_description_ = pd.read_csv('../arcatchreports/hbase1.4.0/hbase1.4.0-metric-suite-description-2020-03-18-19-58-08.csv', sep=';')\n",
    "df_dataset_hbase2_0_0_degradation_matrix_ = pd.read_csv('../arcatchreports/hbase2.0.0/hbase2.0.0-degradation-matrix-2020-03-18-19-57-51.csv', sep=';')\n",
    "df_dataset_hbase2_0_0_metrics_suite_ = pd.read_csv('../arcatchreports/hbase2.0.0/hbase2.0.0-metrics-suite-2020-03-18-19-57-51.csv', sep=';')\n",
    "df_dataset_hbase2_0_0_basic_statistics_ = pd.read_csv('../arcatchreports/hbase2.0.0/hbase2.0.0-basic-statistics-2020-03-18-19-57-51.csv', sep=';')\n",
    "df_dataset_hbase2_0_0_metric_suite_description_ = pd.read_csv('../arcatchreports/hbase2.0.0/hbase2.0.0-metric-suite-description-2020-03-18-19-57-51.csv', sep=';')\n",
    "df_dataset_hbase2_0_0_conformance_of_rules_ = pd.read_csv('../arcatchreports/hbase2.0.0/hbase2.0.0-conformance-of-rules-2020-03-18-19-57-51.csv', sep=';')\n",
    "df_dataset_hbase2_0_0_degree_of_conformance_ = pd.read_csv('../arcatchreports/hbase2.0.0/hbase2.0.0-degree-of-conformance-2020-03-18-19-57-51.csv', sep=';')\n",
    "df_dataset_hbase2_0_0_compartment_description_ = pd.read_csv('../arcatchreports/hbase2.0.0/hbase2.0.0-compartment-description-2020-03-18-19-57-51.csv', sep=';')\n",
    "df_dataset_hbase2_0_0_unit_compartment_mapping_matrix_ = pd.read_csv('../arcatchreports/hbase2.0.0/hbase2.0.0-unit-compartment-mapping-matrix-2020-03-18-19-57-51.csv', sep=';')\n",
    "df_dataset_hbase2_0_0_violation_matrix_ = pd.read_csv('../arcatchreports/hbase2.0.0/hbase2.0.0-violation-matrix-2020-03-18-19-57-51.csv', sep=';')\n",
    "df_dataset_hbase2_0_0_rule_violation_ = pd.read_csv('../arcatchreports/hbase2.0.0/hbase2.0.0-rule-violation-2020-03-18-19-57-51.csv', sep=';')\n",
    "df_dataset_hbase2_2_3_metric_suite_description_ = pd.read_csv('../arcatchreports/hbase2.2.3/hbase2.2.3-metric-suite-description-2020-03-18-19-57-16.csv', sep=';')\n",
    "df_dataset_hbase2_2_3_violation_matrix_ = pd.read_csv('../arcatchreports/hbase2.2.3/hbase2.2.3-violation-matrix-2020-03-18-19-57-16.csv', sep=';')\n",
    "df_dataset_hbase2_2_3_compartment_description_ = pd.read_csv('../arcatchreports/hbase2.2.3/hbase2.2.3-compartment-description-2020-03-18-19-57-16.csv', sep=';')\n",
    "df_dataset_hbase2_2_3_degree_of_conformance_ = pd.read_csv('../arcatchreports/hbase2.2.3/hbase2.2.3-degree-of-conformance-2020-03-18-19-57-16.csv', sep=';')\n",
    "df_dataset_hbase2_2_3_rule_violation_ = pd.read_csv('../arcatchreports/hbase2.2.3/hbase2.2.3-rule-violation-2020-03-18-19-57-16.csv', sep=';')\n",
    "df_dataset_hbase2_2_3_metrics_suite_ = pd.read_csv('../arcatchreports/hbase2.2.3/hbase2.2.3-metrics-suite-2020-03-18-19-57-16.csv', sep=';')\n",
    "df_dataset_hbase2_2_3_unit_compartment_mapping_matrix_ = pd.read_csv('../arcatchreports/hbase2.2.3/hbase2.2.3-unit-compartment-mapping-matrix-2020-03-18-19-57-16.csv', sep=';')\n",
    "df_dataset_hbase2_2_3_degradation_matrix_ = pd.read_csv('../arcatchreports/hbase2.2.3/hbase2.2.3-degradation-matrix-2020-03-18-19-57-16.csv', sep=';')\n",
    "df_dataset_hbase2_2_3_basic_statistics_ = pd.read_csv('../arcatchreports/hbase2.2.3/hbase2.2.3-basic-statistics-2020-03-18-19-57-16.csv', sep=';')\n",
    "df_dataset_hbase2_2_3_conformance_of_rules_ = pd.read_csv('../arcatchreports/hbase2.2.3/hbase2.2.3-conformance-of-rules-2020-03-18-19-57-16.csv', sep=';')\n",
    "df_dataset_hbase1_0_0_conformance_of_rules_ = pd.read_csv('../arcatchreports/hbase1.0.0/hbase1.0.0-conformance-of-rules-2020-03-18-19-58-38.csv', sep=';')\n",
    "df_dataset_hbase1_0_0_violation_matrix_ = pd.read_csv('../arcatchreports/hbase1.0.0/hbase1.0.0-violation-matrix-2020-03-18-19-58-38.csv', sep=';')\n",
    "df_dataset_hbase1_0_0_compartment_description_ = pd.read_csv('../arcatchreports/hbase1.0.0/hbase1.0.0-compartment-description-2020-03-18-19-58-38.csv', sep=';')\n",
    "df_dataset_hbase1_0_0_metric_suite_description_ = pd.read_csv('../arcatchreports/hbase1.0.0/hbase1.0.0-metric-suite-description-2020-03-18-19-58-38.csv', sep=';')\n",
    "df_dataset_hbase1_0_0_unit_compartment_mapping_matrix_ = pd.read_csv('../arcatchreports/hbase1.0.0/hbase1.0.0-unit-compartment-mapping-matrix-2020-03-18-19-58-38.csv', sep=';')\n",
    "df_dataset_hbase1_0_0_basic_statistics_ = pd.read_csv('../arcatchreports/hbase1.0.0/hbase1.0.0-basic-statistics-2020-03-18-19-58-38.csv', sep=';')\n",
    "df_dataset_hbase1_0_0_metrics_suite_ = pd.read_csv('../arcatchreports/hbase1.0.0/hbase1.0.0-metrics-suite-2020-03-18-19-58-38.csv', sep=';')\n",
    "df_dataset_hbase1_0_0_rule_violation_ = pd.read_csv('../arcatchreports/hbase1.0.0/hbase1.0.0-rule-violation-2020-03-18-19-58-38.csv', sep=';')\n",
    "df_dataset_hbase1_0_0_degradation_matrix_ = pd.read_csv('../arcatchreports/hbase1.0.0/hbase1.0.0-degradation-matrix-2020-03-18-19-58-38.csv', sep=';')\n",
    "df_dataset_hbase1_0_0_degree_of_conformance_ = pd.read_csv('../arcatchreports/hbase1.0.0/hbase1.0.0-degree-of-conformance-2020-03-18-19-58-38.csv', sep=';')\n",
    "df_dataset_hbase1_5_0_conformance_of_rules_ = pd.read_csv('../arcatchreports/hbase1.5.0/hbase1.5.0-conformance-of-rules-2020-03-18-19-58-00.csv', sep=';')\n",
    "df_dataset_hbase1_5_0_rule_violation_ = pd.read_csv('../arcatchreports/hbase1.5.0/hbase1.5.0-rule-violation-2020-03-18-19-58-00.csv', sep=';')\n",
    "df_dataset_hbase1_5_0_basic_statistics_ = pd.read_csv('../arcatchreports/hbase1.5.0/hbase1.5.0-basic-statistics-2020-03-18-19-58-00.csv', sep=';')\n",
    "df_dataset_hbase1_5_0_unit_compartment_mapping_matrix_ = pd.read_csv('../arcatchreports/hbase1.5.0/hbase1.5.0-unit-compartment-mapping-matrix-2020-03-18-19-58-00.csv', sep=';')\n",
    "df_dataset_hbase1_5_0_metric_suite_description_ = pd.read_csv('../arcatchreports/hbase1.5.0/hbase1.5.0-metric-suite-description-2020-03-18-19-58-00.csv', sep=';')\n",
    "df_dataset_hbase1_5_0_compartment_description_ = pd.read_csv('../arcatchreports/hbase1.5.0/hbase1.5.0-compartment-description-2020-03-18-19-58-00.csv', sep=';')\n",
    "df_dataset_hbase1_5_0_degree_of_conformance_ = pd.read_csv('../arcatchreports/hbase1.5.0/hbase1.5.0-degree-of-conformance-2020-03-18-19-58-00.csv', sep=';')\n",
    "df_dataset_hbase1_5_0_degradation_matrix_ = pd.read_csv('../arcatchreports/hbase1.5.0/hbase1.5.0-degradation-matrix-2020-03-18-19-58-00.csv', sep=';')\n",
    "df_dataset_hbase1_5_0_violation_matrix_ = pd.read_csv('../arcatchreports/hbase1.5.0/hbase1.5.0-violation-matrix-2020-03-18-19-58-00.csv', sep=';')\n",
    "df_dataset_hbase1_5_0_metrics_suite_ = pd.read_csv('../arcatchreports/hbase1.5.0/hbase1.5.0-metrics-suite-2020-03-18-19-58-00.csv', sep=';')\n",
    "df_dataset_hbase2_1_0_degree_of_conformance_ = pd.read_csv('../arcatchreports/hbase2.1.0/hbase2.1.0-degree-of-conformance-2020-03-18-19-57-39.csv', sep=';')\n",
    "df_dataset_hbase2_1_0_violation_matrix_ = pd.read_csv('../arcatchreports/hbase2.1.0/hbase2.1.0-violation-matrix-2020-03-18-19-57-39.csv', sep=';')\n",
    "df_dataset_hbase2_1_0_compartment_description_ = pd.read_csv('../arcatchreports/hbase2.1.0/hbase2.1.0-compartment-description-2020-03-18-19-57-39.csv', sep=';')\n",
    "df_dataset_hbase2_1_0_unit_compartment_mapping_matrix_ = pd.read_csv('../arcatchreports/hbase2.1.0/hbase2.1.0-unit-compartment-mapping-matrix-2020-03-18-19-57-39.csv', sep=';')\n",
    "df_dataset_hbase2_1_0_degradation_matrix_ = pd.read_csv('../arcatchreports/hbase2.1.0/hbase2.1.0-degradation-matrix-2020-03-18-19-57-39.csv', sep=';')\n",
    "df_dataset_hbase2_1_0_metrics_suite_ = pd.read_csv('../arcatchreports/hbase2.1.0/hbase2.1.0-metrics-suite-2020-03-18-19-57-39.csv', sep=';')\n",
    "df_dataset_hbase2_1_0_metric_suite_description_ = pd.read_csv('../arcatchreports/hbase2.1.0/hbase2.1.0-metric-suite-description-2020-03-18-19-57-39.csv', sep=';')\n",
    "df_dataset_hbase2_1_0_rule_violation_ = pd.read_csv('../arcatchreports/hbase2.1.0/hbase2.1.0-rule-violation-2020-03-18-19-57-39.csv', sep=';')\n",
    "df_dataset_hbase2_1_0_conformance_of_rules_ = pd.read_csv('../arcatchreports/hbase2.1.0/hbase2.1.0-conformance-of-rules-2020-03-18-19-57-39.csv', sep=';')\n",
    "df_dataset_hbase2_1_0_basic_statistics_ = pd.read_csv('../arcatchreports/hbase2.1.0/hbase2.1.0-basic-statistics-2020-03-18-19-57-39.csv', sep=';')\n",
    "df_dataset_hbase1_1_0_basic_statistics_ = pd.read_csv('../arcatchreports/hbase1.1.0/hbase1.1.0-basic-statistics-2020-03-18-19-58-31.csv', sep=';')\n",
    "df_dataset_hbase1_1_0_conformance_of_rules_ = pd.read_csv('../arcatchreports/hbase1.1.0/hbase1.1.0-conformance-of-rules-2020-03-18-19-58-31.csv', sep=';')\n",
    "df_dataset_hbase1_1_0_metric_suite_description_ = pd.read_csv('../arcatchreports/hbase1.1.0/hbase1.1.0-metric-suite-description-2020-03-18-19-58-31.csv', sep=';')\n",
    "df_dataset_hbase1_1_0_degree_of_conformance_ = pd.read_csv('../arcatchreports/hbase1.1.0/hbase1.1.0-degree-of-conformance-2020-03-18-19-58-31.csv', sep=';')\n",
    "df_dataset_hbase1_1_0_metrics_suite_ = pd.read_csv('../arcatchreports/hbase1.1.0/hbase1.1.0-metrics-suite-2020-03-18-19-58-31.csv', sep=';')\n",
    "df_dataset_hbase1_1_0_unit_compartment_mapping_matrix_ = pd.read_csv('../arcatchreports/hbase1.1.0/hbase1.1.0-unit-compartment-mapping-matrix-2020-03-18-19-58-31.csv', sep=';')\n",
    "df_dataset_hbase1_1_0_degradation_matrix_ = pd.read_csv('../arcatchreports/hbase1.1.0/hbase1.1.0-degradation-matrix-2020-03-18-19-58-31.csv', sep=';')\n",
    "df_dataset_hbase1_1_0_compartment_description_ = pd.read_csv('../arcatchreports/hbase1.1.0/hbase1.1.0-compartment-description-2020-03-18-19-58-31.csv', sep=';')\n",
    "df_dataset_hbase1_1_0_rule_violation_ = pd.read_csv('../arcatchreports/hbase1.1.0/hbase1.1.0-rule-violation-2020-03-18-19-58-31.csv', sep=';')\n",
    "df_dataset_hbase1_1_0_violation_matrix_ = pd.read_csv('../arcatchreports/hbase1.1.0/hbase1.1.0-violation-matrix-2020-03-18-19-58-31.csv', sep=';')\n",
    "df_dataset_hbase2_2_0_degradation_matrix_ = pd.read_csv('../arcatchreports/hbase2.2.0/hbase2.2.0-degradation-matrix-2020-03-18-19-57-27.csv', sep=';')\n",
    "df_dataset_hbase2_2_0_basic_statistics_ = pd.read_csv('../arcatchreports/hbase2.2.0/hbase2.2.0-basic-statistics-2020-03-18-19-57-27.csv', sep=';')\n",
    "df_dataset_hbase2_2_0_rule_violation_ = pd.read_csv('../arcatchreports/hbase2.2.0/hbase2.2.0-rule-violation-2020-03-18-19-57-27.csv', sep=';')\n",
    "df_dataset_hbase2_2_0_metric_suite_description_ = pd.read_csv('../arcatchreports/hbase2.2.0/hbase2.2.0-metric-suite-description-2020-03-18-19-57-27.csv', sep=';')\n",
    "df_dataset_hbase2_2_0_metrics_suite_ = pd.read_csv('../arcatchreports/hbase2.2.0/hbase2.2.0-metrics-suite-2020-03-18-19-57-27.csv', sep=';')\n",
    "df_dataset_hbase2_2_0_violation_matrix_ = pd.read_csv('../arcatchreports/hbase2.2.0/hbase2.2.0-violation-matrix-2020-03-18-19-57-27.csv', sep=';')\n",
    "df_dataset_hbase2_2_0_conformance_of_rules_ = pd.read_csv('../arcatchreports/hbase2.2.0/hbase2.2.0-conformance-of-rules-2020-03-18-19-57-27.csv', sep=';')\n",
    "df_dataset_hbase2_2_0_compartment_description_ = pd.read_csv('../arcatchreports/hbase2.2.0/hbase2.2.0-compartment-description-2020-03-18-19-57-27.csv', sep=';')\n",
    "df_dataset_hbase2_2_0_degree_of_conformance_ = pd.read_csv('../arcatchreports/hbase2.2.0/hbase2.2.0-degree-of-conformance-2020-03-18-19-57-27.csv', sep=';')\n",
    "df_dataset_hbase2_2_0_unit_compartment_mapping_matrix_ = pd.read_csv('../arcatchreports/hbase2.2.0/hbase2.2.0-unit-compartment-mapping-matrix-2020-03-18-19-57-27.csv', sep=';')\n",
    "df_dataset_hbase1_2_0_degree_of_conformance_ = pd.read_csv('../arcatchreports/hbase1.2.0/hbase1.2.0-degree-of-conformance-2020-03-18-19-58-23.csv', sep=';')\n",
    "df_dataset_hbase1_2_0_unit_compartment_mapping_matrix_ = pd.read_csv('../arcatchreports/hbase1.2.0/hbase1.2.0-unit-compartment-mapping-matrix-2020-03-18-19-58-23.csv', sep=';')\n",
    "df_dataset_hbase1_2_0_degradation_matrix_ = pd.read_csv('../arcatchreports/hbase1.2.0/hbase1.2.0-degradation-matrix-2020-03-18-19-58-23.csv', sep=';')\n",
    "df_dataset_hbase1_2_0_metric_suite_description_ = pd.read_csv('../arcatchreports/hbase1.2.0/hbase1.2.0-metric-suite-description-2020-03-18-19-58-23.csv', sep=';')\n",
    "df_dataset_hbase1_2_0_basic_statistics_ = pd.read_csv('../arcatchreports/hbase1.2.0/hbase1.2.0-basic-statistics-2020-03-18-19-58-23.csv', sep=';')\n",
    "df_dataset_hbase1_2_0_metrics_suite_ = pd.read_csv('../arcatchreports/hbase1.2.0/hbase1.2.0-metrics-suite-2020-03-18-19-58-23.csv', sep=';')\n",
    "df_dataset_hbase1_2_0_conformance_of_rules_ = pd.read_csv('../arcatchreports/hbase1.2.0/hbase1.2.0-conformance-of-rules-2020-03-18-19-58-23.csv', sep=';')\n",
    "df_dataset_hbase1_2_0_rule_violation_ = pd.read_csv('../arcatchreports/hbase1.2.0/hbase1.2.0-rule-violation-2020-03-18-19-58-23.csv', sep=';')\n",
    "df_dataset_hbase1_2_0_violation_matrix_ = pd.read_csv('../arcatchreports/hbase1.2.0/hbase1.2.0-violation-matrix-2020-03-18-19-58-23.csv', sep=';')\n",
    "df_dataset_hbase1_2_0_compartment_description_ = pd.read_csv('../arcatchreports/hbase1.2.0/hbase1.2.0-compartment-description-2020-03-18-19-58-23.csv', sep=';')"
   ]
  },
  {
   "cell_type": "code",
   "execution_count": 13,
   "metadata": {},
   "outputs": [],
   "source": [
    "list_dataframes = open(\"my_file_dataframes_names2.txt\").read().splitlines()"
   ]
  },
  {
   "cell_type": "code",
   "execution_count": 14,
   "metadata": {},
   "outputs": [
    {
     "data": {
      "text/plain": [
       "['df_dataset_hbase1_3_0_degradation_matrix_',\n",
       " 'df_dataset_hbase1_3_0_violation_matrix_',\n",
       " 'df_dataset_hbase1_3_0_metric_suite_description_',\n",
       " 'df_dataset_hbase1_3_0_compartment_description_',\n",
       " 'df_dataset_hbase1_3_0_conformance_of_rules_',\n",
       " 'df_dataset_hbase1_3_0_metrics_suite_',\n",
       " 'df_dataset_hbase1_3_0_basic_statistics_',\n",
       " 'df_dataset_hbase1_3_0_rule_violation_',\n",
       " 'df_dataset_hbase1_3_0_unit_compartment_mapping_matrix_',\n",
       " 'df_dataset_hbase1_3_0_degree_of_conformance_',\n",
       " 'df_dataset_hbase1_4_0_metrics_suite_',\n",
       " 'df_dataset_hbase1_4_0_conformance_of_rules_',\n",
       " 'df_dataset_hbase1_4_0_compartment_description_',\n",
       " 'df_dataset_hbase1_4_0_degree_of_conformance_',\n",
       " 'df_dataset_hbase1_4_0_rule_violation_',\n",
       " 'df_dataset_hbase1_4_0_violation_matrix_',\n",
       " 'df_dataset_hbase1_4_0_degradation_matrix_',\n",
       " 'df_dataset_hbase1_4_0_basic_statistics_',\n",
       " 'df_dataset_hbase1_4_0_unit_compartment_mapping_matrix_',\n",
       " 'df_dataset_hbase1_4_0_metric_suite_description_',\n",
       " 'df_dataset_hbase2_0_0_degradation_matrix_',\n",
       " 'df_dataset_hbase2_0_0_metrics_suite_',\n",
       " 'df_dataset_hbase2_0_0_basic_statistics_',\n",
       " 'df_dataset_hbase2_0_0_metric_suite_description_',\n",
       " 'df_dataset_hbase2_0_0_conformance_of_rules_',\n",
       " 'df_dataset_hbase2_0_0_degree_of_conformance_',\n",
       " 'df_dataset_hbase2_0_0_compartment_description_',\n",
       " 'df_dataset_hbase2_0_0_unit_compartment_mapping_matrix_',\n",
       " 'df_dataset_hbase2_0_0_violation_matrix_',\n",
       " 'df_dataset_hbase2_0_0_rule_violation_',\n",
       " 'df_dataset_hbase2_2_3_metric_suite_description_',\n",
       " 'df_dataset_hbase2_2_3_violation_matrix_',\n",
       " 'df_dataset_hbase2_2_3_compartment_description_',\n",
       " 'df_dataset_hbase2_2_3_degree_of_conformance_',\n",
       " 'df_dataset_hbase2_2_3_rule_violation_',\n",
       " 'df_dataset_hbase2_2_3_metrics_suite_',\n",
       " 'df_dataset_hbase2_2_3_unit_compartment_mapping_matrix_',\n",
       " 'df_dataset_hbase2_2_3_degradation_matrix_',\n",
       " 'df_dataset_hbase2_2_3_basic_statistics_',\n",
       " 'df_dataset_hbase2_2_3_conformance_of_rules_',\n",
       " 'df_dataset_hbase1_0_0_conformance_of_rules_',\n",
       " 'df_dataset_hbase1_0_0_violation_matrix_',\n",
       " 'df_dataset_hbase1_0_0_compartment_description_',\n",
       " 'df_dataset_hbase1_0_0_metric_suite_description_',\n",
       " 'df_dataset_hbase1_0_0_unit_compartment_mapping_matrix_',\n",
       " 'df_dataset_hbase1_0_0_basic_statistics_',\n",
       " 'df_dataset_hbase1_0_0_metrics_suite_',\n",
       " 'df_dataset_hbase1_0_0_rule_violation_',\n",
       " 'df_dataset_hbase1_0_0_degradation_matrix_',\n",
       " 'df_dataset_hbase1_0_0_degree_of_conformance_',\n",
       " 'df_dataset_hbase1_5_0_conformance_of_rules_',\n",
       " 'df_dataset_hbase1_5_0_rule_violation_',\n",
       " 'df_dataset_hbase1_5_0_basic_statistics_',\n",
       " 'df_dataset_hbase1_5_0_unit_compartment_mapping_matrix_',\n",
       " 'df_dataset_hbase1_5_0_metric_suite_description_',\n",
       " 'df_dataset_hbase1_5_0_compartment_description_',\n",
       " 'df_dataset_hbase1_5_0_degree_of_conformance_',\n",
       " 'df_dataset_hbase1_5_0_degradation_matrix_',\n",
       " 'df_dataset_hbase1_5_0_violation_matrix_',\n",
       " 'df_dataset_hbase1_5_0_metrics_suite_',\n",
       " 'df_dataset_hbase2_1_0_degree_of_conformance_',\n",
       " 'df_dataset_hbase2_1_0_violation_matrix_',\n",
       " 'df_dataset_hbase2_1_0_compartment_description_',\n",
       " 'df_dataset_hbase2_1_0_unit_compartment_mapping_matrix_',\n",
       " 'df_dataset_hbase2_1_0_degradation_matrix_',\n",
       " 'df_dataset_hbase2_1_0_metrics_suite_',\n",
       " 'df_dataset_hbase2_1_0_metric_suite_description_',\n",
       " 'df_dataset_hbase2_1_0_rule_violation_',\n",
       " 'df_dataset_hbase2_1_0_conformance_of_rules_',\n",
       " 'df_dataset_hbase2_1_0_basic_statistics_',\n",
       " 'df_dataset_hbase1_1_0_basic_statistics_',\n",
       " 'df_dataset_hbase1_1_0_conformance_of_rules_',\n",
       " 'df_dataset_hbase1_1_0_metric_suite_description_',\n",
       " 'df_dataset_hbase1_1_0_degree_of_conformance_',\n",
       " 'df_dataset_hbase1_1_0_metrics_suite_',\n",
       " 'df_dataset_hbase1_1_0_unit_compartment_mapping_matrix_',\n",
       " 'df_dataset_hbase1_1_0_degradation_matrix_',\n",
       " 'df_dataset_hbase1_1_0_compartment_description_',\n",
       " 'df_dataset_hbase1_1_0_rule_violation_',\n",
       " 'df_dataset_hbase1_1_0_violation_matrix_',\n",
       " 'df_dataset_hbase2_2_0_degradation_matrix_',\n",
       " 'df_dataset_hbase2_2_0_basic_statistics_',\n",
       " 'df_dataset_hbase2_2_0_rule_violation_',\n",
       " 'df_dataset_hbase2_2_0_metric_suite_description_',\n",
       " 'df_dataset_hbase2_2_0_metrics_suite_',\n",
       " 'df_dataset_hbase2_2_0_violation_matrix_',\n",
       " 'df_dataset_hbase2_2_0_conformance_of_rules_',\n",
       " 'df_dataset_hbase2_2_0_compartment_description_',\n",
       " 'df_dataset_hbase2_2_0_degree_of_conformance_',\n",
       " 'df_dataset_hbase2_2_0_unit_compartment_mapping_matrix_',\n",
       " 'df_dataset_hbase1_2_0_degree_of_conformance_',\n",
       " 'df_dataset_hbase1_2_0_unit_compartment_mapping_matrix_',\n",
       " 'df_dataset_hbase1_2_0_degradation_matrix_',\n",
       " 'df_dataset_hbase1_2_0_metric_suite_description_',\n",
       " 'df_dataset_hbase1_2_0_basic_statistics_',\n",
       " 'df_dataset_hbase1_2_0_metrics_suite_',\n",
       " 'df_dataset_hbase1_2_0_conformance_of_rules_',\n",
       " 'df_dataset_hbase1_2_0_rule_violation_',\n",
       " 'df_dataset_hbase1_2_0_violation_matrix_',\n",
       " 'df_dataset_hbase1_2_0_compartment_description_']"
      ]
     },
     "execution_count": 14,
     "metadata": {},
     "output_type": "execute_result"
    }
   ],
   "source": [
    "list_dataframes"
   ]
  },
  {
   "cell_type": "code",
   "execution_count": 15,
   "metadata": {},
   "outputs": [
    {
     "data": {
      "text/plain": [
       "['df_dataset_hbase1_0_0_metrics_suite_',\n",
       " 'df_dataset_hbase1_1_0_metrics_suite_',\n",
       " 'df_dataset_hbase1_2_0_metrics_suite_',\n",
       " 'df_dataset_hbase1_3_0_metrics_suite_',\n",
       " 'df_dataset_hbase1_4_0_metrics_suite_',\n",
       " 'df_dataset_hbase1_5_0_metrics_suite_',\n",
       " 'df_dataset_hbase2_0_0_metrics_suite_',\n",
       " 'df_dataset_hbase2_1_0_metrics_suite_',\n",
       " 'df_dataset_hbase2_2_0_metrics_suite_',\n",
       " 'df_dataset_hbase2_2_3_metrics_suite_']"
      ]
     },
     "execution_count": 15,
     "metadata": {},
     "output_type": "execute_result"
    }
   ],
   "source": [
    "list_contents_value(list_dataframes, \"metrics_suite\")"
   ]
  },
  {
   "cell_type": "code",
   "execution_count": 16,
   "metadata": {},
   "outputs": [],
   "source": [
    "df_dataset_hbase1_3_0_metrics_suite_.name = 'df_dataset_hbase1_3_0_metrics_suite_'\n",
    "df_dataset_hbase1_4_0_metrics_suite_.name = 'df_dataset_hbase1_4_0_metrics_suite_'\n",
    "df_dataset_hbase2_0_0_metrics_suite_.name = 'df_dataset_hbase2_0_0_metrics_suite_'\n",
    "df_dataset_hbase2_2_3_metrics_suite_.name = 'df_dataset_hbase2_2_3_metrics_suite_'\n",
    "df_dataset_hbase1_0_0_metrics_suite_.name = 'df_dataset_hbase1_0_0_metrics_suite_'\n",
    "df_dataset_hbase1_5_0_metrics_suite_.name = 'df_dataset_hbase1_5_0_metrics_suite_'\n",
    "df_dataset_hbase2_1_0_metrics_suite_.name = 'df_dataset_hbase2_1_0_metrics_suite_'\n",
    "df_dataset_hbase1_1_0_metrics_suite_.name = 'df_dataset_hbase1_1_0_metrics_suite_'\n",
    "df_dataset_hbase2_2_0_metrics_suite_.name = 'df_dataset_hbase2_2_0_metrics_suite_'\n",
    "df_dataset_hbase1_2_0_metrics_suite_.name = 'df_dataset_hbase1_2_0_metrics_suite_'"
   ]
  },
  {
   "cell_type": "code",
   "execution_count": 17,
   "metadata": {},
   "outputs": [
    {
     "name": "stdout",
     "output_type": "stream",
     "text": [
      "df_dataset_hbase1_0_0_metrics_suite_.iloc[0]\n",
      "df_dataset_hbase1_1_0_metrics_suite_.iloc[0]\n",
      "df_dataset_hbase1_2_0_metrics_suite_.iloc[0]\n",
      "df_dataset_hbase1_3_0_metrics_suite_.iloc[0]\n",
      "df_dataset_hbase1_4_0_metrics_suite_.iloc[0]\n",
      "df_dataset_hbase1_5_0_metrics_suite_.iloc[0]\n",
      "df_dataset_hbase2_0_0_metrics_suite_.iloc[0]\n",
      "df_dataset_hbase2_1_0_metrics_suite_.iloc[0]\n",
      "df_dataset_hbase2_2_0_metrics_suite_.iloc[0]\n",
      "df_dataset_hbase2_2_3_metrics_suite_.iloc[0]\n"
     ]
    }
   ],
   "source": [
    "for each in list_contents_value(list_dataframes, \"metrics_suite\"):\n",
    "    print(each + \".iloc[0]\")"
   ]
  },
  {
   "cell_type": "code",
   "execution_count": 18,
   "metadata": {},
   "outputs": [
    {
     "name": "stdout",
     "output_type": "stream",
     "text": [
      "dic_methods_df_dataset_hbase1_0_0_metrics_suite_ = create_my_dict(df_dataset_hbase1_0_0_metrics_suite_)\n",
      "dic_methods_df_dataset_hbase1_1_0_metrics_suite_ = create_my_dict(df_dataset_hbase1_1_0_metrics_suite_)\n",
      "dic_methods_df_dataset_hbase1_2_0_metrics_suite_ = create_my_dict(df_dataset_hbase1_2_0_metrics_suite_)\n",
      "dic_methods_df_dataset_hbase1_3_0_metrics_suite_ = create_my_dict(df_dataset_hbase1_3_0_metrics_suite_)\n",
      "dic_methods_df_dataset_hbase1_4_0_metrics_suite_ = create_my_dict(df_dataset_hbase1_4_0_metrics_suite_)\n",
      "dic_methods_df_dataset_hbase1_5_0_metrics_suite_ = create_my_dict(df_dataset_hbase1_5_0_metrics_suite_)\n",
      "dic_methods_df_dataset_hbase2_0_0_metrics_suite_ = create_my_dict(df_dataset_hbase2_0_0_metrics_suite_)\n",
      "dic_methods_df_dataset_hbase2_1_0_metrics_suite_ = create_my_dict(df_dataset_hbase2_1_0_metrics_suite_)\n",
      "dic_methods_df_dataset_hbase2_2_0_metrics_suite_ = create_my_dict(df_dataset_hbase2_2_0_metrics_suite_)\n",
      "dic_methods_df_dataset_hbase2_2_3_metrics_suite_ = create_my_dict(df_dataset_hbase2_2_3_metrics_suite_)\n"
     ]
    }
   ],
   "source": [
    "my_list_versions = []\n",
    "for each in list_contents_value(list_dataframes, \"metrics_suite\"):\n",
    "    nome = str(each)\n",
    "    my_list_versions.append(show_content_between(nome, 'df_dataset_hbase','_metrics_suite_'))\n",
    "    print(\"dic_methods_\" + each + \" = create_my_dict(\" + each + \")\")"
   ]
  },
  {
   "cell_type": "code",
   "execution_count": 19,
   "metadata": {},
   "outputs": [
    {
     "data": {
      "text/plain": [
       "['1_0_0',\n",
       " '1_1_0',\n",
       " '1_2_0',\n",
       " '1_3_0',\n",
       " '1_4_0',\n",
       " '1_5_0',\n",
       " '2_0_0',\n",
       " '2_1_0',\n",
       " '2_2_0',\n",
       " '2_2_3']"
      ]
     },
     "execution_count": 19,
     "metadata": {},
     "output_type": "execute_result"
    }
   ],
   "source": [
    "my_list_versions"
   ]
  },
  {
   "cell_type": "code",
   "execution_count": 20,
   "metadata": {},
   "outputs": [],
   "source": [
    "my_list_dic_methods = []\n",
    "for each in list_contents_value(list_dataframes, \"metrics_suite\"):\n",
    "    my_list_dic_methods.append(\"dic_methods_\" + each)"
   ]
  },
  {
   "cell_type": "code",
   "execution_count": 21,
   "metadata": {},
   "outputs": [
    {
     "data": {
      "text/plain": [
       "['dic_methods_df_dataset_hbase1_0_0_metrics_suite_',\n",
       " 'dic_methods_df_dataset_hbase1_1_0_metrics_suite_',\n",
       " 'dic_methods_df_dataset_hbase1_2_0_metrics_suite_',\n",
       " 'dic_methods_df_dataset_hbase1_3_0_metrics_suite_',\n",
       " 'dic_methods_df_dataset_hbase1_4_0_metrics_suite_',\n",
       " 'dic_methods_df_dataset_hbase1_5_0_metrics_suite_',\n",
       " 'dic_methods_df_dataset_hbase2_0_0_metrics_suite_',\n",
       " 'dic_methods_df_dataset_hbase2_1_0_metrics_suite_',\n",
       " 'dic_methods_df_dataset_hbase2_2_0_metrics_suite_',\n",
       " 'dic_methods_df_dataset_hbase2_2_3_metrics_suite_']"
      ]
     },
     "execution_count": 21,
     "metadata": {},
     "output_type": "execute_result"
    }
   ],
   "source": [
    "my_list_dic_methods"
   ]
  },
  {
   "cell_type": "code",
   "execution_count": 22,
   "metadata": {},
   "outputs": [],
   "source": [
    "dic_methods_df_dataset_hbase1_0_0_metrics_suite_ = create_my_dict(df_dataset_hbase1_0_0_metrics_suite_)\n",
    "dic_methods_df_dataset_hbase1_1_0_metrics_suite_ = create_my_dict(df_dataset_hbase1_1_0_metrics_suite_)\n",
    "dic_methods_df_dataset_hbase1_2_0_metrics_suite_ = create_my_dict(df_dataset_hbase1_2_0_metrics_suite_)\n",
    "dic_methods_df_dataset_hbase1_3_0_metrics_suite_ = create_my_dict(df_dataset_hbase1_3_0_metrics_suite_)\n",
    "dic_methods_df_dataset_hbase1_4_0_metrics_suite_ = create_my_dict(df_dataset_hbase1_4_0_metrics_suite_)\n",
    "dic_methods_df_dataset_hbase1_5_0_metrics_suite_ = create_my_dict(df_dataset_hbase1_5_0_metrics_suite_)\n",
    "dic_methods_df_dataset_hbase2_0_0_metrics_suite_ = create_my_dict(df_dataset_hbase2_0_0_metrics_suite_)\n",
    "dic_methods_df_dataset_hbase2_1_0_metrics_suite_ = create_my_dict(df_dataset_hbase2_1_0_metrics_suite_)\n",
    "dic_methods_df_dataset_hbase2_2_0_metrics_suite_ = create_my_dict(df_dataset_hbase2_2_0_metrics_suite_)\n",
    "dic_methods_df_dataset_hbase2_2_3_metrics_suite_ = create_my_dict(df_dataset_hbase2_2_3_metrics_suite_)"
   ]
  },
  {
   "cell_type": "code",
   "execution_count": 23,
   "metadata": {},
   "outputs": [
    {
     "name": "stdout",
     "output_type": "stream",
     "text": [
      "dic_methods_df_dataset_hbase1_0_0_metrics_suite_\n",
      "dic_methods_df_dataset_hbase1_1_0_metrics_suite_\n",
      "dic_methods_df_dataset_hbase1_2_0_metrics_suite_\n",
      "dic_methods_df_dataset_hbase1_3_0_metrics_suite_\n",
      "dic_methods_df_dataset_hbase1_4_0_metrics_suite_\n",
      "dic_methods_df_dataset_hbase1_5_0_metrics_suite_\n",
      "dic_methods_df_dataset_hbase2_0_0_metrics_suite_\n",
      "dic_methods_df_dataset_hbase2_1_0_metrics_suite_\n",
      "dic_methods_df_dataset_hbase2_2_0_metrics_suite_\n",
      "dic_methods_df_dataset_hbase2_2_3_metrics_suite_\n"
     ]
    }
   ],
   "source": [
    "for i in range(len(my_list_dic_methods)):\n",
    "    print(my_list_dic_methods[i])"
   ]
  },
  {
   "cell_type": "code",
   "execution_count": 24,
   "metadata": {},
   "outputs": [],
   "source": [
    "my_dict_methods = {}\n",
    "cont = 0\n",
    "for each in my_list_versions:\n",
    "    my_dict_methods[each] = my_list_dic_methods[cont] \n",
    "    cont = cont + 1"
   ]
  },
  {
   "cell_type": "code",
   "execution_count": 25,
   "metadata": {},
   "outputs": [
    {
     "data": {
      "text/plain": [
       "{'1_0_0': 'dic_methods_df_dataset_hbase1_0_0_metrics_suite_',\n",
       " '1_1_0': 'dic_methods_df_dataset_hbase1_1_0_metrics_suite_',\n",
       " '1_2_0': 'dic_methods_df_dataset_hbase1_2_0_metrics_suite_',\n",
       " '1_3_0': 'dic_methods_df_dataset_hbase1_3_0_metrics_suite_',\n",
       " '1_4_0': 'dic_methods_df_dataset_hbase1_4_0_metrics_suite_',\n",
       " '1_5_0': 'dic_methods_df_dataset_hbase1_5_0_metrics_suite_',\n",
       " '2_0_0': 'dic_methods_df_dataset_hbase2_0_0_metrics_suite_',\n",
       " '2_1_0': 'dic_methods_df_dataset_hbase2_1_0_metrics_suite_',\n",
       " '2_2_0': 'dic_methods_df_dataset_hbase2_2_0_metrics_suite_',\n",
       " '2_2_3': 'dic_methods_df_dataset_hbase2_2_3_metrics_suite_'}"
      ]
     },
     "execution_count": 25,
     "metadata": {},
     "output_type": "execute_result"
    }
   ],
   "source": [
    "my_dict_methods"
   ]
  },
  {
   "cell_type": "code",
   "execution_count": 26,
   "metadata": {},
   "outputs": [
    {
     "data": {
      "text/plain": [
       "'dic_methods_df_dataset_hbase1_0_0_metrics_suite_'"
      ]
     },
     "execution_count": 26,
     "metadata": {},
     "output_type": "execute_result"
    }
   ],
   "source": [
    "my_dict_methods['1_0_0']"
   ]
  },
  {
   "cell_type": "code",
   "execution_count": 27,
   "metadata": {},
   "outputs": [
    {
     "data": {
      "text/plain": [
       "['org.apache.hadoop.hbase.util.Methods',\n",
       " 34.0,\n",
       " 0.0,\n",
       " 22.0,\n",
       " 1.0,\n",
       " 8.0,\n",
       " 5.0,\n",
       " 0.0,\n",
       " 0.0,\n",
       " 0.0,\n",
       " 1.0,\n",
       " 0.0,\n",
       " 1.0,\n",
       " 1.0,\n",
       " 18.0,\n",
       " 2.0,\n",
       " 22.0,\n",
       " 6.0,\n",
       " 30.0,\n",
       " 5.0,\n",
       " 2.0,\n",
       " 20.0,\n",
       " 0.0,\n",
       " 19.0,\n",
       " 0.0,\n",
       " 9.0,\n",
       " 2.0,\n",
       " 4.0,\n",
       " 1.0,\n",
       " 5.0,\n",
       " 7.0,\n",
       " 1.0,\n",
       " 5.0,\n",
       " 0.0,\n",
       " 0.0,\n",
       " 0.0,\n",
       " 0.0,\n",
       " 0.0,\n",
       " 0.0,\n",
       " 0.0,\n",
       " 1.0,\n",
       " 1.0,\n",
       " 0.0,\n",
       " 0.0,\n",
       " 0.0,\n",
       " 0.0]"
      ]
     },
     "execution_count": 27,
     "metadata": {},
     "output_type": "execute_result"
    }
   ],
   "source": [
    "dic_methods_df_dataset_hbase1_3_0_metrics_suite_['1_3_0']"
   ]
  },
  {
   "cell_type": "code",
   "execution_count": null,
   "metadata": {},
   "outputs": [],
   "source": []
  }
 ],
 "metadata": {
  "kernelspec": {
   "display_name": "Python 3",
   "language": "python",
   "name": "python3"
  },
  "language_info": {
   "codemirror_mode": {
    "name": "ipython",
    "version": 3
   },
   "file_extension": ".py",
   "mimetype": "text/x-python",
   "name": "python",
   "nbconvert_exporter": "python",
   "pygments_lexer": "ipython3",
   "version": "3.6.3"
  }
 },
 "nbformat": 4,
 "nbformat_minor": 2
}
