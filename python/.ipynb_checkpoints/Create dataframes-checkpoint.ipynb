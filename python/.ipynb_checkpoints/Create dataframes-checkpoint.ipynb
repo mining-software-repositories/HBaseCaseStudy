{
 "cells": [
  {
   "cell_type": "code",
   "execution_count": 138,
   "metadata": {},
   "outputs": [
    {
     "name": "stdout",
     "output_type": "stream",
     "text": [
      "['hbase1.3.0', 'hbase1.4.0', 'hbase2.0.0', 'hbase2.2.3', 'hbase1.0.0', 'hbase1.5.0', 'hbase2.1.0', 'hbase1.1.0', 'hbase2.2.0', 'hbase1.2.0']\n"
     ]
    }
   ],
   "source": [
    "## Ler os diretorios de um diretorio\n",
    "import os\n",
    "import glob\n",
    "\n",
    "my_dirs_arcatchreports = os.listdir(\"../arcatchreports\")\n",
    "print(my_dirs_arcatchreports)"
   ]
  },
  {
   "cell_type": "code",
   "execution_count": 139,
   "metadata": {},
   "outputs": [],
   "source": [
    "## lista os arquivos .csv de um diretorio, nesse caso o diretorio arcatchreports\n",
    "def list_files_from_dir_arcatchreports(my_dir):\n",
    "    path = \"../arcatchreports/\" + my_dir + \"/*.csv\"\n",
    "    csv_files = []\n",
    "    for file in glob.glob(path):\n",
    "      csv_files.append(file)\n",
    "    return csv_files"
   ]
  },
  {
   "cell_type": "code",
   "execution_count": 140,
   "metadata": {},
   "outputs": [
    {
     "data": {
      "text/plain": [
       "['../arcatchreports/hbase1.1.0/hbase1.1.0-basic-statistics-2020-03-18-19-58-31.csv',\n",
       " '../arcatchreports/hbase1.1.0/hbase1.1.0-conformance-of-rules-2020-03-18-19-58-31.csv',\n",
       " '../arcatchreports/hbase1.1.0/hbase1.1.0-metric-suite-description-2020-03-18-19-58-31.csv',\n",
       " '../arcatchreports/hbase1.1.0/hbase1.1.0-degree-of-conformance-2020-03-18-19-58-31.csv',\n",
       " '../arcatchreports/hbase1.1.0/hbase1.1.0-metrics-suite-2020-03-18-19-58-31.csv',\n",
       " '../arcatchreports/hbase1.1.0/hbase1.1.0-unit-compartment-mapping-matrix-2020-03-18-19-58-31.csv',\n",
       " '../arcatchreports/hbase1.1.0/hbase1.1.0-degradation-matrix-2020-03-18-19-58-31.csv',\n",
       " '../arcatchreports/hbase1.1.0/hbase1.1.0-compartment-description-2020-03-18-19-58-31.csv',\n",
       " '../arcatchreports/hbase1.1.0/hbase1.1.0-rule-violation-2020-03-18-19-58-31.csv',\n",
       " '../arcatchreports/hbase1.1.0/hbase1.1.0-violation-matrix-2020-03-18-19-58-31.csv']"
      ]
     },
     "execution_count": 140,
     "metadata": {},
     "output_type": "execute_result"
    }
   ],
   "source": [
    "list_files_from_dir_arcatchreports('hbase1.1.0')"
   ]
  },
  {
   "cell_type": "code",
   "execution_count": 141,
   "metadata": {},
   "outputs": [],
   "source": [
    "## Cria um dicionario dir : lista\n",
    "## hbase1.0.0 : csv_files\n",
    "my_dict_from_arcatchreports = {}\n",
    "\n",
    "for each_dir in my_dirs_arcatchreports:\n",
    "    my_dict_from_arcatchreports[each_dir] = list_files_from_dir_arcatchreports(each_dir)"
   ]
  },
  {
   "cell_type": "code",
   "execution_count": 143,
   "metadata": {},
   "outputs": [
    {
     "data": {
      "text/plain": [
       "{'hbase1.3.0': ['../arcatchreports/hbase1.3.0/hbase1.3.0-degradation-matrix-2020-03-18-19-58-15.csv',\n",
       "  '../arcatchreports/hbase1.3.0/hbase1.3.0-violation-matrix-2020-03-18-19-58-15.csv',\n",
       "  '../arcatchreports/hbase1.3.0/hbase1.3.0-metric-suite-description-2020-03-18-19-58-15.csv',\n",
       "  '../arcatchreports/hbase1.3.0/hbase1.3.0-compartment-description-2020-03-18-19-58-15.csv',\n",
       "  '../arcatchreports/hbase1.3.0/hbase1.3.0-conformance-of-rules-2020-03-18-19-58-15.csv',\n",
       "  '../arcatchreports/hbase1.3.0/hbase1.3.0-metrics-suite-2020-03-18-19-58-15.csv',\n",
       "  '../arcatchreports/hbase1.3.0/hbase1.3.0-basic-statistics-2020-03-18-19-58-15.csv',\n",
       "  '../arcatchreports/hbase1.3.0/hbase1.3.0-rule-violation-2020-03-18-19-58-15.csv',\n",
       "  '../arcatchreports/hbase1.3.0/hbase1.3.0-unit-compartment-mapping-matrix-2020-03-18-19-58-15.csv',\n",
       "  '../arcatchreports/hbase1.3.0/hbase1.3.0-degree-of-conformance-2020-03-18-19-58-15.csv'],\n",
       " 'hbase1.4.0': ['../arcatchreports/hbase1.4.0/hbase1.4.0-metrics-suite-2020-03-18-19-58-08.csv',\n",
       "  '../arcatchreports/hbase1.4.0/hbase1.4.0-conformance-of-rules-2020-03-18-19-58-08.csv',\n",
       "  '../arcatchreports/hbase1.4.0/hbase1.4.0-compartment-description-2020-03-18-19-58-08.csv',\n",
       "  '../arcatchreports/hbase1.4.0/hbase1.4.0-degree-of-conformance-2020-03-18-19-58-08.csv',\n",
       "  '../arcatchreports/hbase1.4.0/hbase1.4.0-rule-violation-2020-03-18-19-58-08.csv',\n",
       "  '../arcatchreports/hbase1.4.0/hbase1.4.0-violation-matrix-2020-03-18-19-58-08.csv',\n",
       "  '../arcatchreports/hbase1.4.0/hbase1.4.0-degradation-matrix-2020-03-18-19-58-08.csv',\n",
       "  '../arcatchreports/hbase1.4.0/hbase1.4.0-basic-statistics-2020-03-18-19-58-08.csv',\n",
       "  '../arcatchreports/hbase1.4.0/hbase1.4.0-unit-compartment-mapping-matrix-2020-03-18-19-58-08.csv',\n",
       "  '../arcatchreports/hbase1.4.0/hbase1.4.0-metric-suite-description-2020-03-18-19-58-08.csv'],\n",
       " 'hbase2.0.0': ['../arcatchreports/hbase2.0.0/hbase2.0.0-degradation-matrix-2020-03-18-19-57-51.csv',\n",
       "  '../arcatchreports/hbase2.0.0/hbase2.0.0-metrics-suite-2020-03-18-19-57-51.csv',\n",
       "  '../arcatchreports/hbase2.0.0/hbase2.0.0-basic-statistics-2020-03-18-19-57-51.csv',\n",
       "  '../arcatchreports/hbase2.0.0/hbase2.0.0-metric-suite-description-2020-03-18-19-57-51.csv',\n",
       "  '../arcatchreports/hbase2.0.0/hbase2.0.0-conformance-of-rules-2020-03-18-19-57-51.csv',\n",
       "  '../arcatchreports/hbase2.0.0/hbase2.0.0-degree-of-conformance-2020-03-18-19-57-51.csv',\n",
       "  '../arcatchreports/hbase2.0.0/hbase2.0.0-compartment-description-2020-03-18-19-57-51.csv',\n",
       "  '../arcatchreports/hbase2.0.0/hbase2.0.0-unit-compartment-mapping-matrix-2020-03-18-19-57-51.csv',\n",
       "  '../arcatchreports/hbase2.0.0/hbase2.0.0-violation-matrix-2020-03-18-19-57-51.csv',\n",
       "  '../arcatchreports/hbase2.0.0/hbase2.0.0-rule-violation-2020-03-18-19-57-51.csv'],\n",
       " 'hbase2.2.3': ['../arcatchreports/hbase2.2.3/hbase2.2.3-metric-suite-description-2020-03-18-19-57-16.csv',\n",
       "  '../arcatchreports/hbase2.2.3/hbase2.2.3-violation-matrix-2020-03-18-19-57-16.csv',\n",
       "  '../arcatchreports/hbase2.2.3/hbase2.2.3-compartment-description-2020-03-18-19-57-16.csv',\n",
       "  '../arcatchreports/hbase2.2.3/hbase2.2.3-degree-of-conformance-2020-03-18-19-57-16.csv',\n",
       "  '../arcatchreports/hbase2.2.3/hbase2.2.3-rule-violation-2020-03-18-19-57-16.csv',\n",
       "  '../arcatchreports/hbase2.2.3/hbase2.2.3-metrics-suite-2020-03-18-19-57-16.csv',\n",
       "  '../arcatchreports/hbase2.2.3/hbase2.2.3-unit-compartment-mapping-matrix-2020-03-18-19-57-16.csv',\n",
       "  '../arcatchreports/hbase2.2.3/hbase2.2.3-degradation-matrix-2020-03-18-19-57-16.csv',\n",
       "  '../arcatchreports/hbase2.2.3/hbase2.2.3-basic-statistics-2020-03-18-19-57-16.csv',\n",
       "  '../arcatchreports/hbase2.2.3/hbase2.2.3-conformance-of-rules-2020-03-18-19-57-16.csv'],\n",
       " 'hbase1.0.0': ['../arcatchreports/hbase1.0.0/hbase1.0.0-conformance-of-rules-2020-03-18-19-58-38.csv',\n",
       "  '../arcatchreports/hbase1.0.0/hbase1.0.0-violation-matrix-2020-03-18-19-58-38.csv',\n",
       "  '../arcatchreports/hbase1.0.0/hbase1.0.0-compartment-description-2020-03-18-19-58-38.csv',\n",
       "  '../arcatchreports/hbase1.0.0/hbase1.0.0-metric-suite-description-2020-03-18-19-58-38.csv',\n",
       "  '../arcatchreports/hbase1.0.0/hbase1.0.0-unit-compartment-mapping-matrix-2020-03-18-19-58-38.csv',\n",
       "  '../arcatchreports/hbase1.0.0/hbase1.0.0-basic-statistics-2020-03-18-19-58-38.csv',\n",
       "  '../arcatchreports/hbase1.0.0/hbase1.0.0-metrics-suite-2020-03-18-19-58-38.csv',\n",
       "  '../arcatchreports/hbase1.0.0/hbase1.0.0-rule-violation-2020-03-18-19-58-38.csv',\n",
       "  '../arcatchreports/hbase1.0.0/hbase1.0.0-degradation-matrix-2020-03-18-19-58-38.csv',\n",
       "  '../arcatchreports/hbase1.0.0/hbase1.0.0-degree-of-conformance-2020-03-18-19-58-38.csv'],\n",
       " 'hbase1.5.0': ['../arcatchreports/hbase1.5.0/hbase1.5.0-conformance-of-rules-2020-03-18-19-58-00.csv',\n",
       "  '../arcatchreports/hbase1.5.0/hbase1.5.0-rule-violation-2020-03-18-19-58-00.csv',\n",
       "  '../arcatchreports/hbase1.5.0/hbase1.5.0-basic-statistics-2020-03-18-19-58-00.csv',\n",
       "  '../arcatchreports/hbase1.5.0/hbase1.5.0-unit-compartment-mapping-matrix-2020-03-18-19-58-00.csv',\n",
       "  '../arcatchreports/hbase1.5.0/hbase1.5.0-metric-suite-description-2020-03-18-19-58-00.csv',\n",
       "  '../arcatchreports/hbase1.5.0/hbase1.5.0-compartment-description-2020-03-18-19-58-00.csv',\n",
       "  '../arcatchreports/hbase1.5.0/hbase1.5.0-degree-of-conformance-2020-03-18-19-58-00.csv',\n",
       "  '../arcatchreports/hbase1.5.0/hbase1.5.0-degradation-matrix-2020-03-18-19-58-00.csv',\n",
       "  '../arcatchreports/hbase1.5.0/hbase1.5.0-violation-matrix-2020-03-18-19-58-00.csv',\n",
       "  '../arcatchreports/hbase1.5.0/hbase1.5.0-metrics-suite-2020-03-18-19-58-00.csv'],\n",
       " 'hbase2.1.0': ['../arcatchreports/hbase2.1.0/hbase2.1.0-degree-of-conformance-2020-03-18-19-57-39.csv',\n",
       "  '../arcatchreports/hbase2.1.0/hbase2.1.0-violation-matrix-2020-03-18-19-57-39.csv',\n",
       "  '../arcatchreports/hbase2.1.0/hbase2.1.0-compartment-description-2020-03-18-19-57-39.csv',\n",
       "  '../arcatchreports/hbase2.1.0/hbase2.1.0-unit-compartment-mapping-matrix-2020-03-18-19-57-39.csv',\n",
       "  '../arcatchreports/hbase2.1.0/hbase2.1.0-degradation-matrix-2020-03-18-19-57-39.csv',\n",
       "  '../arcatchreports/hbase2.1.0/hbase2.1.0-metrics-suite-2020-03-18-19-57-39.csv',\n",
       "  '../arcatchreports/hbase2.1.0/hbase2.1.0-metric-suite-description-2020-03-18-19-57-39.csv',\n",
       "  '../arcatchreports/hbase2.1.0/hbase2.1.0-rule-violation-2020-03-18-19-57-39.csv',\n",
       "  '../arcatchreports/hbase2.1.0/hbase2.1.0-conformance-of-rules-2020-03-18-19-57-39.csv',\n",
       "  '../arcatchreports/hbase2.1.0/hbase2.1.0-basic-statistics-2020-03-18-19-57-39.csv'],\n",
       " 'hbase1.1.0': ['../arcatchreports/hbase1.1.0/hbase1.1.0-basic-statistics-2020-03-18-19-58-31.csv',\n",
       "  '../arcatchreports/hbase1.1.0/hbase1.1.0-conformance-of-rules-2020-03-18-19-58-31.csv',\n",
       "  '../arcatchreports/hbase1.1.0/hbase1.1.0-metric-suite-description-2020-03-18-19-58-31.csv',\n",
       "  '../arcatchreports/hbase1.1.0/hbase1.1.0-degree-of-conformance-2020-03-18-19-58-31.csv',\n",
       "  '../arcatchreports/hbase1.1.0/hbase1.1.0-metrics-suite-2020-03-18-19-58-31.csv',\n",
       "  '../arcatchreports/hbase1.1.0/hbase1.1.0-unit-compartment-mapping-matrix-2020-03-18-19-58-31.csv',\n",
       "  '../arcatchreports/hbase1.1.0/hbase1.1.0-degradation-matrix-2020-03-18-19-58-31.csv',\n",
       "  '../arcatchreports/hbase1.1.0/hbase1.1.0-compartment-description-2020-03-18-19-58-31.csv',\n",
       "  '../arcatchreports/hbase1.1.0/hbase1.1.0-rule-violation-2020-03-18-19-58-31.csv',\n",
       "  '../arcatchreports/hbase1.1.0/hbase1.1.0-violation-matrix-2020-03-18-19-58-31.csv'],\n",
       " 'hbase2.2.0': ['../arcatchreports/hbase2.2.0/hbase2.2.0-degradation-matrix-2020-03-18-19-57-27.csv',\n",
       "  '../arcatchreports/hbase2.2.0/hbase2.2.0-basic-statistics-2020-03-18-19-57-27.csv',\n",
       "  '../arcatchreports/hbase2.2.0/hbase2.2.0-rule-violation-2020-03-18-19-57-27.csv',\n",
       "  '../arcatchreports/hbase2.2.0/hbase2.2.0-metric-suite-description-2020-03-18-19-57-27.csv',\n",
       "  '../arcatchreports/hbase2.2.0/hbase2.2.0-metrics-suite-2020-03-18-19-57-27.csv',\n",
       "  '../arcatchreports/hbase2.2.0/hbase2.2.0-violation-matrix-2020-03-18-19-57-27.csv',\n",
       "  '../arcatchreports/hbase2.2.0/hbase2.2.0-conformance-of-rules-2020-03-18-19-57-27.csv',\n",
       "  '../arcatchreports/hbase2.2.0/hbase2.2.0-compartment-description-2020-03-18-19-57-27.csv',\n",
       "  '../arcatchreports/hbase2.2.0/hbase2.2.0-degree-of-conformance-2020-03-18-19-57-27.csv',\n",
       "  '../arcatchreports/hbase2.2.0/hbase2.2.0-unit-compartment-mapping-matrix-2020-03-18-19-57-27.csv'],\n",
       " 'hbase1.2.0': ['../arcatchreports/hbase1.2.0/hbase1.2.0-degree-of-conformance-2020-03-18-19-58-23.csv',\n",
       "  '../arcatchreports/hbase1.2.0/hbase1.2.0-unit-compartment-mapping-matrix-2020-03-18-19-58-23.csv',\n",
       "  '../arcatchreports/hbase1.2.0/hbase1.2.0-degradation-matrix-2020-03-18-19-58-23.csv',\n",
       "  '../arcatchreports/hbase1.2.0/hbase1.2.0-metric-suite-description-2020-03-18-19-58-23.csv',\n",
       "  '../arcatchreports/hbase1.2.0/hbase1.2.0-basic-statistics-2020-03-18-19-58-23.csv',\n",
       "  '../arcatchreports/hbase1.2.0/hbase1.2.0-metrics-suite-2020-03-18-19-58-23.csv',\n",
       "  '../arcatchreports/hbase1.2.0/hbase1.2.0-conformance-of-rules-2020-03-18-19-58-23.csv',\n",
       "  '../arcatchreports/hbase1.2.0/hbase1.2.0-rule-violation-2020-03-18-19-58-23.csv',\n",
       "  '../arcatchreports/hbase1.2.0/hbase1.2.0-violation-matrix-2020-03-18-19-58-23.csv',\n",
       "  '../arcatchreports/hbase1.2.0/hbase1.2.0-compartment-description-2020-03-18-19-58-23.csv']}"
      ]
     },
     "execution_count": 143,
     "metadata": {},
     "output_type": "execute_result"
    }
   ],
   "source": [
    "my_dict_from_arcatchreports"
   ]
  },
  {
   "cell_type": "code",
   "execution_count": 148,
   "metadata": {
    "scrolled": false
   },
   "outputs": [],
   "source": [
    "## Para cada diretorio ler os arquivos .csv\n",
    "my_df_list = []\n",
    "my_df_names_list = []\n",
    "cont = 0\n",
    "for each_dir in my_dirs_arcatchreports: \n",
    "    for each_file in my_dict_from_arcatchreports[each_dir]:\n",
    "        aux = \"pd.read_csv(\" + \"'\" + each_file + \"'\" + \", sep=';')\"\n",
    "        y = aux.replace(\"pd.read_csv('../arcatchreports/\" + my_dirs_arcatchreports[cont] + \"/\", '')\n",
    "        z = y.replace(\"', sep=';')\",'')\n",
    "        t = \"df_dataset_\" + z \n",
    "        t = t.replace(\".csv\", \"\")\n",
    "        w = t.replace(\"-\", \"_\").replace(\".\", \"_\")\n",
    "        my_df_names_list.append(w)\n",
    "        my_df_list.append(w + \" = \" + aux)\n",
    "    cont = cont + 1"
   ]
  },
  {
   "cell_type": "code",
   "execution_count": 149,
   "metadata": {},
   "outputs": [],
   "source": [
    "with open('my_file_dataframes.txt', 'w') as f:\n",
    "    for item in my_df_list:\n",
    "        f.write(\"%s\\n\" % item)"
   ]
  },
  {
   "cell_type": "code",
   "execution_count": 150,
   "metadata": {},
   "outputs": [],
   "source": [
    "with open('my_file_dataframes_names.txt', 'w') as f2:\n",
    "    for item in my_df_names_list:\n",
    "        f2.write(\"%s\\n\" % item)"
   ]
  },
  {
   "cell_type": "code",
   "execution_count": 160,
   "metadata": {},
   "outputs": [],
   "source": [
    "## Para cada diretorio ler os arquivos .csv\n",
    "my_df_list2 = []\n",
    "my_df_names_list2 = []\n",
    "cont = 0\n",
    "for each_dir in my_dirs_arcatchreports: \n",
    "    for each_file in my_dict_from_arcatchreports[each_dir]:\n",
    "        aux = \"pd.read_csv(\" + \"'\" + each_file + \"'\" + \", sep=';')\"\n",
    "        y = aux.replace(\"pd.read_csv('../arcatchreports/\" + my_dirs_arcatchreports[cont] + \"/\", '')\n",
    "        z = y.replace(\"', sep=';')\",'')\n",
    "        t = \"df_dataset_\" + z \n",
    "        t = t.replace(\".csv\", \"\")\n",
    "        w = t.replace(\"-\", \"_\").replace(\".\", \"_\")\n",
    "        text = w\n",
    "        head, sep, tail = text.partition('2020')\n",
    "        my_df_names_list2.append(head)\n",
    "        my_df_list2.append(head + \" = \" + aux)\n",
    "    cont = cont + 1"
   ]
  },
  {
   "cell_type": "code",
   "execution_count": 161,
   "metadata": {},
   "outputs": [],
   "source": [
    "with open('my_file_dataframes2.txt', 'w') as f:\n",
    "    for item in my_df_list2:\n",
    "        f.write(\"%s\\n\" % item)"
   ]
  },
  {
   "cell_type": "code",
   "execution_count": 162,
   "metadata": {},
   "outputs": [],
   "source": [
    "with open('my_file_dataframes_names2.txt', 'w') as f2:\n",
    "    for item in my_df_names_list2:\n",
    "        f2.write(\"%s\\n\" % item)"
   ]
  },
  {
   "cell_type": "code",
   "execution_count": null,
   "metadata": {},
   "outputs": [],
   "source": []
  }
 ],
 "metadata": {
  "kernelspec": {
   "display_name": "Python 3",
   "language": "python",
   "name": "python3"
  },
  "language_info": {
   "codemirror_mode": {
    "name": "ipython",
    "version": 3
   },
   "file_extension": ".py",
   "mimetype": "text/x-python",
   "name": "python",
   "nbconvert_exporter": "python",
   "pygments_lexer": "ipython3",
   "version": "3.6.3"
  }
 },
 "nbformat": 4,
 "nbformat_minor": 2
}
